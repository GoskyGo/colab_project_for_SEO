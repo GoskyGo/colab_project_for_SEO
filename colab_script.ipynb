{
  "nbformat": 4,
  "nbformat_minor": 0,
  "metadata": {
    "colab": {
      "provenance": [],
      "toc_visible": true
    },
    "kernelspec": {
      "name": "python3",
      "display_name": "Python 3"
    },
    "language_info": {
      "name": "python"
    }
  },
  "cells": [
    {
      "cell_type": "code",
      "source": [
        "!pip install advertools\n",
        "!pip install seaborn"
      ],
      "metadata": {
        "collapsed": true,
        "id": "Sr8R9r445VDk"
      },
      "execution_count": null,
      "outputs": []
    },
    {
      "cell_type": "markdown",
      "source": [
        "# Nowa sekcja"
      ],
      "metadata": {
        "id": "uFIHmZWcBV8z"
      }
    },
    {
      "cell_type": "code",
      "source": [
        "from IPython.core.display import display, HTML"
      ],
      "metadata": {
        "id": "VsmrJUhzrsJ7"
      },
      "execution_count": 12,
      "outputs": []
    },
    {
      "cell_type": "code",
      "source": [
        "import requests\n",
        "import numpy as np\n",
        "import pandas as pd\n",
        "from bs4 import BeautifulSoup\n",
        "from matplotlib import pyplot as plt\n",
        "import advertools as adv\n",
        "from advertools import crawl\n",
        "from google.colab import files\n",
        "import seaborn as sns"
      ],
      "metadata": {
        "id": "o5z2_I4E3IvX"
      },
      "execution_count": 66,
      "outputs": []
    },
    {
      "cell_type": "code",
      "source": [
        "df = adv.sitemap_to_df('https://www.stepes.com/wp-sitemap.xml')\n"
      ],
      "metadata": {
        "collapsed": true,
        "id": "i9qqU5-TEGvH"
      },
      "execution_count": null,
      "outputs": []
    },
    {
      "cell_type": "code",
      "source": [
        "df"
      ],
      "metadata": {
        "collapsed": true,
        "id": "Dilma7stEVMR"
      },
      "execution_count": null,
      "outputs": []
    },
    {
      "cell_type": "code",
      "source": [
        "df.groupby('sitemap').size().plot(kind='barh', color=sns.palettes.mpl_palette('Dark2'))\n",
        "plt.gca().spines[['top','right',]].set_visible(False)"
      ],
      "metadata": {
        "collapsed": true,
        "id": "BvygcBZv9q0x"
      },
      "execution_count": null,
      "outputs": []
    },
    {
      "cell_type": "code",
      "source": [
        "adv.crawl(df['loc'].to_list(), output_file=\"craml_1.jl\",custom_settings={'LOG_FILE': 'crawl_1.log'})\n",
        "crawl_df =pd.read_json('/content/craml_1.jl', lines=True)\n",
        "crawl_df.title.head(50)"
      ],
      "metadata": {
        "id": "lkMuACvzBCtF"
      },
      "execution_count": null,
      "outputs": []
    },
    {
      "cell_type": "code",
      "source": [
        "crawl_df.columns.to_list()"
      ],
      "metadata": {
        "collapsed": true,
        "id": "8tHVCp0JTZop"
      },
      "execution_count": null,
      "outputs": []
    },
    {
      "cell_type": "code",
      "source": [
        "crawl_df['status'].value_counts()"
      ],
      "metadata": {
        "collapsed": true,
        "id": "Di05uQRcBz-z"
      },
      "execution_count": null,
      "outputs": []
    },
    {
      "cell_type": "code",
      "source": [
        "crawl_df[crawl_df['status'] != 200]['url']"
      ],
      "metadata": {
        "collapsed": true,
        "id": "O8w-t0VvCR3w"
      },
      "execution_count": null,
      "outputs": []
    },
    {
      "cell_type": "code",
      "source": [
        "set(crawl_df[\"url\"]).difference(set(df[\"loc\"]))"
      ],
      "metadata": {
        "collapsed": true,
        "id": "1nt-M1GUCvFr"
      },
      "execution_count": null,
      "outputs": []
    },
    {
      "cell_type": "code",
      "source": [
        "img_df=adv.crawlytics.images(crawl_df)\n",
        "img_df"
      ],
      "metadata": {
        "collapsed": true,
        "id": "7Q-ZyaphEG98"
      },
      "execution_count": null,
      "outputs": []
    },
    {
      "cell_type": "code",
      "source": [
        "crawl_df.isna().value_counts()"
      ],
      "metadata": {
        "id": "4InPH9FnDOXu"
      },
      "execution_count": null,
      "outputs": []
    },
    {
      "cell_type": "code",
      "source": [
        "crawl_df['meta_desc'].isna().value_counts()"
      ],
      "metadata": {
        "id": "jEVMROo1V-iA"
      },
      "execution_count": null,
      "outputs": []
    },
    {
      "cell_type": "code",
      "source": [
        "crawl_df[crawl_df['meta_desc'].isna()]"
      ],
      "metadata": {
        "collapsed": true,
        "id": "gmJDjaNPV-0K"
      },
      "execution_count": null,
      "outputs": []
    },
    {
      "cell_type": "code",
      "source": [
        "crawl_df['title'].str.len().mean()"
      ],
      "metadata": {
        "id": "6vtKMbV-WXkq"
      },
      "execution_count": null,
      "outputs": []
    },
    {
      "cell_type": "code",
      "source": [
        "(crawl_df['title'].str.len() > 60 ).value_counts()"
      ],
      "metadata": {
        "collapsed": true,
        "id": "_poXyfpGWhau"
      },
      "execution_count": null,
      "outputs": []
    }
  ]
}